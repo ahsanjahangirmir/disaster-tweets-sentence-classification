{
 "cells": [
  {
   "cell_type": "markdown",
   "metadata": {},
   "source": [
    "# Sentence Classification with Pre-Trained Embeddings  \n",
    "\n",
    "### Introduction\n",
    "\n",
    "Embeddings are a way to represent words (or more generally, *tokens*) as vectors. These vectors are useful for many tasks in NLP, including but not limited to: Text Generation, Machine Translation, and Sentence Classification. In this notebook, we will be exploring the concept of Embeddings, and using them for Sentence Classification."
   ]
  },
  {
   "cell_type": "code",
   "execution_count": 3,
   "metadata": {},
   "outputs": [
    {
     "name": "stdout",
     "output_type": "stream",
     "text": [
      "Collecting gpt4all\n",
      "  Obtaining dependency information for gpt4all from https://files.pythonhosted.org/packages/b3/5b/1f4334f54546605efb878129ecde1a6bbab1710c233440fef2888b56b5c8/gpt4all-2.0.2-py3-none-macosx_10_15_universal2.whl.metadata\n",
      "  Downloading gpt4all-2.0.2-py3-none-macosx_10_15_universal2.whl.metadata (892 bytes)\n",
      "Requirement already satisfied: requests in /Users/ajm/anaconda3/lib/python3.11/site-packages (from gpt4all) (2.31.0)\n",
      "Requirement already satisfied: tqdm in /Users/ajm/anaconda3/lib/python3.11/site-packages (from gpt4all) (4.65.0)\n",
      "Requirement already satisfied: charset-normalizer<4,>=2 in /Users/ajm/anaconda3/lib/python3.11/site-packages (from requests->gpt4all) (2.0.4)\n",
      "Requirement already satisfied: idna<4,>=2.5 in /Users/ajm/anaconda3/lib/python3.11/site-packages (from requests->gpt4all) (3.4)\n",
      "Requirement already satisfied: urllib3<3,>=1.21.1 in /Users/ajm/anaconda3/lib/python3.11/site-packages (from requests->gpt4all) (1.26.16)\n",
      "Requirement already satisfied: certifi>=2017.4.17 in /Users/ajm/anaconda3/lib/python3.11/site-packages (from requests->gpt4all) (2023.7.22)\n",
      "Downloading gpt4all-2.0.2-py3-none-macosx_10_15_universal2.whl (5.6 MB)\n",
      "\u001b[2K   \u001b[90m━━━━━━━━━━━━━━━━━━━━━━━━━━━━━━━━━━━━━━━━\u001b[0m \u001b[32m5.6/5.6 MB\u001b[0m \u001b[31m2.3 MB/s\u001b[0m eta \u001b[36m0:00:00\u001b[0m00:01\u001b[0m00:01\u001b[0m0m\n",
      "\u001b[?25hInstalling collected packages: gpt4all\n",
      "Successfully installed gpt4all-2.0.2\n"
     ]
    },
    {
     "name": "stderr",
     "output_type": "stream",
     "text": [
      "[nltk_data] Downloading package stopwords to /Users/ajm/nltk_data...\n",
      "[nltk_data]   Unzipping corpora/stopwords.zip.\n",
      "[nltk_data] Downloading package wordnet to /Users/ajm/nltk_data...\n"
     ]
    },
    {
     "data": {
      "text/plain": [
       "True"
      ]
     },
     "execution_count": 3,
     "metadata": {},
     "output_type": "execute_result"
    }
   ],
   "source": [
    "import re\n",
    "!pip install gpt4all\n",
    "\n",
    "import numpy as np\n",
    "import pandas as pd\n",
    "\n",
    "import nltk\n",
    "from nltk.corpus import stopwords\n",
    "\n",
    "from sklearn.model_selection import train_test_split\n",
    "\n",
    "import gensim.downloader as api\n",
    "from gensim.models.word2vec import Word2Vec\n",
    "\n",
    "from gpt4all import Embed4All\n",
    "\n",
    "import torch\n",
    "import torch.nn as nn\n",
    "\n",
    "nltk.download('stopwords')\n",
    "nltk.download('wordnet')"
   ]
  },
  {
   "cell_type": "markdown",
   "metadata": {},
   "source": [
    "## Exploring Embeddings [10 Marks]\n",
    "\n",
    "Put simply, Embeddings are fixed-size **dense** vector representations of tokens in natural language. This means you can represent words as vectors, sentences as vectors, even other entities like entire graphs as vectors.\n",
    "\n",
    "So what really makes them different from something like One-Hot vectors?\n",
    "\n",
    "What's special is that they have semantic meaning baked into them. This means you can model relationships between entities in text, which itself leads to a lot of fun applications. All modern architectures make use of Embeddings in some way.\n",
    "\n",
    "You can read more about them [here](https://aman.ai/primers/ai/word-vectors/).\n",
    "\n",
    "We will be using *pretrained* Embeddings: this means that we will be using Embeddings that have already been trained on a large corpus of text. This is because training Embeddings from scratch is a very computationally expensive task, and we don't have the resources to do so. Fortunately, there were some good samaritans who have already done this for us, and we can use their publicly available Embeddings for our own tasks.\n",
    "\n",
    "\n",
    "We will load in pretrained Embeddings here and examine some of their properties. If you're interested, feel free look up the [Word2Vec model](https://arxiv.org/abs/1301.3781): this is the model that was trained to give us the embeddings you will see below."
   ]
  },
  {
   "cell_type": "code",
   "execution_count": 4,
   "metadata": {},
   "outputs": [
    {
     "name": "stdout",
     "output_type": "stream",
     "text": [
      "[==================================================] 100.0% 31.6/31.6MB downloaded\n",
      "Done loading word2vec model!\n"
     ]
    }
   ],
   "source": [
    "# Download the pretrained word2vec model (this may take a few minutes)\n",
    "corpus = api.load('text8')\n",
    "w2vmodel = Word2Vec(corpus)\n",
    "\n",
    "print(\"Done loading word2vec model!\")"
   ]
  },
  {
   "cell_type": "markdown",
   "metadata": {},
   "source": [
    "Now that we've loaded in the Embeddings, we can create an Embedding **layer** in PyTorch, `nn.Embedding`, that will perform the processing step for us.\n",
    "\n",
    "Note in the following cell how there is a given **vocab size** and **embedding dimension** for the model: this is important to note because some sets of Embeddings may be defined for a large set of words (a large vocab), whereas older ones perhaps have a smaller set (a small vocab); the Embedding dimension essentially tells us how many *features* have been learned for a given word, that will allow us to perform further processing on top of."
   ]
  },
  {
   "cell_type": "code",
   "execution_count": 5,
   "metadata": {},
   "outputs": [
    {
     "name": "stdout",
     "output_type": "stream",
     "text": [
      "Vocab size: 71290\n",
      "Some of the words in the vocabulary:\n",
      "['the', 'of', 'and', 'one', 'in', 'a', 'to', 'zero', 'nine', 'two']\n",
      "Embedding dimension: 100\n"
     ]
    }
   ],
   "source": [
    "# Define embedding layer using gensim\n",
    "embedding_layer = nn.Embedding.from_pretrained(torch.FloatTensor(w2vmodel.wv.vectors))\n",
    "\n",
    "# Get some information from the w2vmodel\n",
    "print(f\"Vocab size: {len(w2vmodel.wv.key_to_index)}\")\n",
    "\n",
    "print(f\"Some of the words in the vocabulary:\\n{list(w2vmodel.wv.key_to_index.keys())[:10]}\")\n",
    "\n",
    "print(f\"Embedding dimension: {w2vmodel.wv.vectors.shape[1]}\")"
   ]
  },
  {
   "cell_type": "markdown",
   "metadata": {},
   "source": [
    "Now, for a demonstration, we instantiate two words, turn them into numbers (encoding them via their index in the vocab), and pass them through the Embedding layer. \n",
    "\n",
    "Note how the resultant Embeddings both have the same shape: 1 word, and 100 elements in the vector."
   ]
  },
  {
   "cell_type": "code",
   "execution_count": 6,
   "metadata": {},
   "outputs": [
    {
     "name": "stdout",
     "output_type": "stream",
     "text": [
      "Embedding Shape for 'king': torch.Size([1, 100])\n",
      "Embedding Shape for 'queen': torch.Size([1, 100])\n"
     ]
    }
   ],
   "source": [
    "# Take two words and get their embeddings\n",
    "word1 = \"king\"\n",
    "word2 = \"queen\"\n",
    "\n",
    "def word2vec(word):\n",
    "    return embedding_layer(torch.LongTensor([w2vmodel.wv.key_to_index[word]]))\n",
    "\n",
    "king_embedding = word2vec(word1)\n",
    "queen_embedding = word2vec(word2)\n",
    "\n",
    "print(f\"Embedding Shape for '{word1}': {king_embedding.shape}\")\n",
    "print(f\"Embedding Shape for '{word2}': {queen_embedding.shape}\")"
   ]
  },
  {
   "cell_type": "markdown",
   "metadata": {},
   "source": [
    "When we have vectors whose scale is arbitrary, one nice way to measure how *similar* they are is with the Cosine Similarity measure.\n",
    "\n",
    "\n",
    "$$ \\text{Cosine Similarity}(\\mathbf{u},\\mathbf{v}) = \\frac{\\mathbf{u} \\cdot \\mathbf{v}}{\\|\\mathbf{u}\\| \\|\\mathbf{v}\\|} $$\n",
    "\n",
    "\n",
    "We can apply this idea to our Embeddings. To see how \"similar\" two words are to the model, we can generate their Embeddings and take the Cosine Similarity of them. This will be a number between -1 and 1 (just like the range of the cosine function). When the number is close to 0, the words are not similar."
   ]
  },
  {
   "cell_type": "code",
   "execution_count": 7,
   "metadata": {},
   "outputs": [
    {
     "name": "stdout",
     "output_type": "stream",
     "text": [
      "Similarity between 'king' and 'queen': 0.6975234746932983\n",
      "Similarity between 'king' and 'apple': 0.1903911828994751\n"
     ]
    }
   ],
   "source": [
    "def cosine_similarity(vec1, vec2):\n",
    "    '''\n",
    "    Computes the cosine similarity between two vectors\n",
    "    '''\n",
    "\n",
    "    #   Compute the cosine similarity between the two vectors (using PyTorch)\n",
    "    return torch.nn.functional.cosine_similarity(vec1, vec2, dim=0)\n",
    "\n",
    "def compute_word_similarity(word1, word2):\n",
    "    '''\n",
    "    Takes in two words, computes their embeddings and returns the cosine similarity\n",
    "    '''\n",
    "    \n",
    "    v1 = embedding_layer(torch.LongTensor([w2vmodel.wv.key_to_index[word1]])).view(-1)\n",
    "    v2 = embedding_layer(torch.LongTensor([w2vmodel.wv.key_to_index[word2]])).view(-1)\n",
    "    \n",
    "    return cosine_similarity(v1, v2)\n",
    "\n",
    "#   Define three words (one pair should be similar and one pair should be dissimilar) and compute their similarity\n",
    "word1 = \"king\"\n",
    "word2 = \"queen\"\n",
    "word3 = \"apple\"\n",
    "print(f\"Similarity between '{word1}' and '{word2}': {compute_word_similarity(word1, word2)}\")\n",
    "print(f\"Similarity between '{word1}' and '{word3}': {compute_word_similarity(word1, word3)}\")"
   ]
  },
  {
   "cell_type": "code",
   "execution_count": 8,
   "metadata": {},
   "outputs": [],
   "source": [
    "# Run this cell if you're done with the above section\n",
    "del embedding_layer"
   ]
  },
  {
   "cell_type": "markdown",
   "metadata": {},
   "source": [
    "## Sentence Classification Classification with Sentence Embeddings \n",
    "\n",
    "Now let's move on to an actual application: classifying whether a tweet is about a real disaster or not. As you can imagine, this could be a valuable model when monitoring social media for disaster relief efforts.\n",
    "\n",
    "Since we are using Sentence Embeddings, we want something that will take in a sequence of words and throw out a single fixed-size vector. For this task, we will make use of an LLM via the `gpt4all` library.\n",
    "\n",
    "This library will allow us to generate pretrained embeddings for sentences, that we can use as **features** to feed to any classifier of our choice."
   ]
  },
  {
   "cell_type": "code",
   "execution_count": 9,
   "metadata": {},
   "outputs": [
    {
     "name": "stdout",
     "output_type": "stream",
     "text": [
      "(6090, 2) (1523, 2)\n"
     ]
    }
   ],
   "source": [
    "# Read in the data here\n",
    "df = pd.read_csv(\"./disaster_tweets.csv\")\n",
    "df = df[[\"text\", \"target\"]]\n",
    "\n",
    "# Split the data\n",
    "train, val = train_test_split(df, test_size=0.2, random_state=42)\n",
    "print(train.shape, val.shape)"
   ]
  },
  {
   "cell_type": "markdown",
   "metadata": {},
   "source": [
    "Before jumping straight to Embeddings, since our data is sourced from the cesspool that is Twitter, we should probably do some cleaning. This can involve the removal of URLs, punctuation, numbers that don't provide any meaning, stopwords, and so on.'\n",
    "\n",
    "In the following cell, write functions to clean the sentences. You are allowed to add more functions if you wish, but the ones provided are the bare minimum.\n",
    "\n",
    "**Note:** After cleaning your sentences, it is possible that you may end up with empty sentences (or some that are so short they have lost all meaning). In this event, since we want to demonstrate setting up a Sentence Classification task, you should remove them from your dataset (data cleaning is not the center of this notebook)."
   ]
  },
  {
   "cell_type": "code",
   "execution_count": 11,
   "metadata": {},
   "outputs": [],
   "source": [
    "#  Clean the sentences (5 marks)\n",
    "import string\n",
    "\n",
    "#  Fill out the following functions, adding more if desired\n",
    "\n",
    "def lowercase(txt):\n",
    "    \n",
    "    return txt.lower()\n",
    "\n",
    "def remove_punctuation(txt):\n",
    "    \n",
    "    return txt.translate(str.maketrans('', '', string.punctuation))\n",
    "\n",
    "def remove_stopwords(txt):\n",
    "    \n",
    "    stop_words = set(stopwords.words('english'))\n",
    "    words = txt.split()\n",
    "    filtered_words = ' '.join([word for word in words if word not in stop_words])\n",
    "    \n",
    "    return filtered_words\n",
    "\n",
    "def remove_numbers(txt):\n",
    "    \n",
    "    return re.sub(r'\\d+', '', txt)\n",
    "\n",
    "def remove_url(txt):\n",
    "    \n",
    "    return re.sub(r'http\\S+|www\\S+|https\\S+', '', txt, flags=re.MULTILINE)\n",
    "\n",
    "def normalize_sentence(txt):\n",
    "    '''\n",
    "    Aggregates all the above functions to normalize/clean a sentence\n",
    "    '''\n",
    "    \n",
    "    txt = lowercase(txt)\n",
    "    txt = remove_url(txt)\n",
    "    txt = remove_punctuation(txt)\n",
    "    txt = remove_numbers(txt)\n",
    "    txt = remove_stopwords(txt)\n",
    "    \n",
    "    return txt\n",
    "\n",
    "# Clean the sentences\n",
    "df['cleaned_text'] = df['text'].apply(normalize_sentence)\n",
    "\n",
    "# Filter sentences that are too short (less than 20ish characters)\n",
    "df = df[df['cleaned_text'].str.len() >= 20]"
   ]
  },
  {
   "cell_type": "markdown",
   "metadata": {},
   "source": [
    "Now for the fun part, creating our Embeddings!\n",
    "\n",
    "We will be using the `gpt4all.Embed4All` class for this purpose. You can look up the documentation [here](https://docs.gpt4all.io/gpt4all_python_embedding.html#gpt4all.gpt4all.Embed4All.embed).\n",
    "\n",
    "This functionality makes use of a model called [Sentence-BERT](https://arxiv.org/abs/1908.10084). This is a Transformer-based model that has been trained on a large corpus of text, and is able to generate high-quality Sentence Embeddings for us."
   ]
  },
  {
   "cell_type": "code",
   "execution_count": 18,
   "metadata": {
    "scrolled": false
   },
   "outputs": [
    {
     "name": "stdout",
     "output_type": "stream",
     "text": [
      "bert_load_from_file: gguf version     = 2\n",
      "bert_load_from_file: gguf alignment   = 32\n",
      "bert_load_from_file: gguf data offset = 695552\n",
      "bert_load_from_file: model name           = BERT\n",
      "bert_load_from_file: model architecture   = bert\n",
      "bert_load_from_file: model file type      = 1\n",
      "bert_load_from_file: bert tokenizer vocab = 30522\n"
     ]
    }
   ],
   "source": [
    "# Generate embeddings for train and validation sentences (5 marks)\n",
    "\n",
    "feature_extractor = Embed4All()\n",
    "\n",
    "# Encode the train samples\n",
    "def encode(sentences, feature_extractor):\n",
    "\n",
    "    embeddings = []\n",
    "\n",
    "    for sentence in sentences:\n",
    "\n",
    "        embeddings.append(feature_extractor.embed(sentence))\n",
    "\n",
    "    return embeddings\n",
    "\n",
    "# Encode the train sentences\n",
    "train_embeddings = encode(train['text'].tolist(), feature_extractor)\n",
    "\n",
    "# Encode the validation sentences\n",
    "val_embeddings = encode(val['text'].tolist(), feature_extractor)\n",
    "\n",
    "# Ready the labels\n",
    "train_labels = train['target'].values\n",
    "val_labels = val['target'].values\n"
   ]
  },
  {
   "cell_type": "markdown",
   "metadata": {},
   "source": [
    "Now with our Embeddings ready, we can move on to the actual classification task.\n",
    "\n",
    "You have the choice of using **any** classifier you wish. You can use a simple Logistic Regression model, get fancy with Support Vector Machines, or even use a Neural Network. The choice is yours.\n",
    "\n",
    "We will be looking for a model with a **Validation Accuracy** of around $0.8$. You must also use this model to make predictions on your own provided inputs, after completing the `predict` function."
   ]
  },
  {
   "cell_type": "code",
   "execution_count": 19,
   "metadata": {},
   "outputs": [
    {
     "name": "stdout",
     "output_type": "stream",
     "text": [
      "Validation Accuracy: 0.8181221273801708\n"
     ]
    }
   ],
   "source": [
    "\n",
    "from sklearn.linear_model import LogisticRegression\n",
    "from sklearn.metrics import accuracy_score\n",
    "\n",
    "model = LogisticRegression()\n",
    "\n",
    "model.fit(train_embeddings, train_labels)\n",
    "\n",
    "val_preds = model.predict(val_embeddings)\n",
    "\n",
    "val_accuracy = accuracy_score(val_labels, val_preds)\n",
    "print(f\"Validation Accuracy: {val_accuracy}\")"
   ]
  },
  {
   "cell_type": "code",
   "execution_count": 30,
   "metadata": {},
   "outputs": [
    {
     "name": "stdout",
     "output_type": "stream",
     "text": [
      "Predicted class: 1, Probabilities: [0.10395519 0.89604481]\n"
     ]
    }
   ],
   "source": [
    "\n",
    "def predict(sentence, clf):\n",
    "    '''\n",
    "    Takes in a sentence and returns the predicted class along with the probability\n",
    "    '''\n",
    "    #   Clean and encode the sentence\n",
    "    sentence = normalize_sentence(sentence)\n",
    "    embedding = encode([sentence], feature_extractor)[0]\n",
    "\n",
    "    #   Predict the class and probability\n",
    "    prediction = clf.predict([embedding])\n",
    "    probability = clf.predict_proba([embedding])\n",
    "\n",
    "    return prediction[0], probability[0]\n",
    "    \n",
    "#   Predict on a few of your own sentences\n",
    "\n",
    "sentence = \"There was a massive earthquake in Miami that killed 10000 people.\"\n",
    "predicted_class, probabilities = predict(sentence, model)\n",
    "print(f\"Predicted class: {predicted_class}, Probabilities: {probabilities}\")"
   ]
  }
 ],
 "metadata": {
  "kernelspec": {
   "display_name": "Python 3 (ipykernel)",
   "language": "python",
   "name": "python3"
  },
  "language_info": {
   "codemirror_mode": {
    "name": "ipython",
    "version": 3
   },
   "file_extension": ".py",
   "mimetype": "text/x-python",
   "name": "python",
   "nbconvert_exporter": "python",
   "pygments_lexer": "ipython3",
   "version": "3.11.4"
  },
  "vscode": {
   "interpreter": {
    "hash": "bbe381b710e5d3541ca1e32a0f143d44d9fc319722adcf51c48d4250c2e9fef8"
   }
  }
 },
 "nbformat": 4,
 "nbformat_minor": 2
}
